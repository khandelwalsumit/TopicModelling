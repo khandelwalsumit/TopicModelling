{
  "nbformat": 4,
  "nbformat_minor": 0,
  "metadata": {
    "colab": {
      "name": "Topic Modelling.ipynb",
      "provenance": []
    },
    "kernelspec": {
      "name": "python3",
      "display_name": "Python 3"
    },
    "language_info": {
      "name": "python"
    }
  },
  "cells": [
    {
      "cell_type": "code",
      "metadata": {
        "colab": {
          "base_uri": "https://localhost:8080/"
        },
        "id": "mA5yIfOi5xPo",
        "outputId": "e51d2e67-a7b1-4848-a3b6-8e6f7e7a5b7e"
      },
      "source": [
        "!git clone https://github.com/khandelwalsumit/TopicModelling.git"
      ],
      "execution_count": 1,
      "outputs": [
        {
          "output_type": "stream",
          "name": "stdout",
          "text": [
            "Cloning into 'TopicModelling'...\n",
            "remote: Enumerating objects: 6, done.\u001b[K\n",
            "remote: Counting objects: 100% (6/6), done.\u001b[K\n",
            "remote: Compressing objects: 100% (3/3), done.\u001b[K\n",
            "remote: Total 6 (delta 1), reused 2 (delta 0), pack-reused 0\u001b[K\n",
            "Unpacking objects: 100% (6/6), done.\n"
          ]
        }
      ]
    },
    {
      "cell_type": "code",
      "metadata": {
        "id": "Ow6zTMfS6mU6"
      },
      "source": [
        "import pandas as pd"
      ],
      "execution_count": 2,
      "outputs": []
    },
    {
      "cell_type": "code",
      "metadata": {
        "id": "iz0Zud4C67XI"
      },
      "source": [
        "data = pd.read_csv(\"TopicModelling/abcnews-date-text.csv\")"
      ],
      "execution_count": 3,
      "outputs": []
    },
    {
      "cell_type": "code",
      "metadata": {
        "id": "HhWGownQ_nMm"
      },
      "source": [
        "documents = data[['headline_text']]\n",
        "documents['index'] = documents.index"
      ],
      "execution_count": 5,
      "outputs": []
    },
    {
      "cell_type": "code",
      "metadata": {
        "colab": {
          "base_uri": "https://localhost:8080/",
          "height": 204
        },
        "id": "c2f969Rv_oce",
        "outputId": "3810ae95-c989-4acc-e682-6e8ae5a025a4"
      },
      "source": [
        "documents.head()"
      ],
      "execution_count": 6,
      "outputs": [
        {
          "output_type": "execute_result",
          "data": {
            "text/html": [
              "<div>\n",
              "<style scoped>\n",
              "    .dataframe tbody tr th:only-of-type {\n",
              "        vertical-align: middle;\n",
              "    }\n",
              "\n",
              "    .dataframe tbody tr th {\n",
              "        vertical-align: top;\n",
              "    }\n",
              "\n",
              "    .dataframe thead th {\n",
              "        text-align: right;\n",
              "    }\n",
              "</style>\n",
              "<table border=\"1\" class=\"dataframe\">\n",
              "  <thead>\n",
              "    <tr style=\"text-align: right;\">\n",
              "      <th></th>\n",
              "      <th>headline_text</th>\n",
              "      <th>index</th>\n",
              "    </tr>\n",
              "  </thead>\n",
              "  <tbody>\n",
              "    <tr>\n",
              "      <th>0</th>\n",
              "      <td>aba decides against community broadcasting lic...</td>\n",
              "      <td>0</td>\n",
              "    </tr>\n",
              "    <tr>\n",
              "      <th>1</th>\n",
              "      <td>act fire witnesses must be aware of defamation</td>\n",
              "      <td>1</td>\n",
              "    </tr>\n",
              "    <tr>\n",
              "      <th>2</th>\n",
              "      <td>a g calls for infrastructure protection summit</td>\n",
              "      <td>2</td>\n",
              "    </tr>\n",
              "    <tr>\n",
              "      <th>3</th>\n",
              "      <td>air nz staff in aust strike for pay rise</td>\n",
              "      <td>3</td>\n",
              "    </tr>\n",
              "    <tr>\n",
              "      <th>4</th>\n",
              "      <td>air nz strike to affect australian travellers</td>\n",
              "      <td>4</td>\n",
              "    </tr>\n",
              "  </tbody>\n",
              "</table>\n",
              "</div>"
            ],
            "text/plain": [
              "                                       headline_text  index\n",
              "0  aba decides against community broadcasting lic...      0\n",
              "1     act fire witnesses must be aware of defamation      1\n",
              "2     a g calls for infrastructure protection summit      2\n",
              "3           air nz staff in aust strike for pay rise      3\n",
              "4      air nz strike to affect australian travellers      4"
            ]
          },
          "metadata": {},
          "execution_count": 6
        }
      ]
    },
    {
      "cell_type": "code",
      "metadata": {
        "colab": {
          "base_uri": "https://localhost:8080/"
        },
        "id": "Bnv-9aS4_2g2",
        "outputId": "abb1a1f3-ba18-4550-cf32-d21a7c040dc5"
      },
      "source": [
        "import gensim\n",
        "from gensim.utils import simple_preprocess\n",
        "from gensim.parsing.preprocessing import STOPWORDS\n",
        "from nltk.stem import WordNetLemmatizer, SnowballStemmer\n",
        "from nltk.stem.porter import *\n",
        "import numpy as np\n",
        "np.random.seed(2018)\n",
        "import nltk\n",
        "nltk.download('wordnet')\n",
        "stemmer = SnowballStemmer(\"english\")"
      ],
      "execution_count": 10,
      "outputs": [
        {
          "output_type": "stream",
          "name": "stdout",
          "text": [
            "[nltk_data] Downloading package wordnet to /root/nltk_data...\n",
            "[nltk_data]   Package wordnet is already up-to-date!\n"
          ]
        }
      ]
    },
    {
      "cell_type": "code",
      "metadata": {
        "id": "gcbvLdpEADQH"
      },
      "source": [
        "def lemmatize_stemming(text):\n",
        "    return stemmer.stem(WordNetLemmatizer().lemmatize(text, pos='v'))\n",
        "\n",
        "def preprocess(text):\n",
        "    result = []\n",
        "    for token in gensim.utils.simple_preprocess(text):\n",
        "        if token not in gensim.parsing.preprocessing.STOPWORDS and len(token) > 3:\n",
        "            result.append(lemmatize_stemming(token))\n",
        "    return result"
      ],
      "execution_count": 11,
      "outputs": []
    },
    {
      "cell_type": "code",
      "metadata": {
        "colab": {
          "base_uri": "https://localhost:8080/"
        },
        "id": "hIIgZnMoBorP",
        "outputId": "80f16de9-1801-46b8-b8cd-00f8ae2d9dad"
      },
      "source": [
        "doc_sample = documents[documents['index'] == 4310].values[0][0]\n",
        "print('original document: ')\n",
        "words = []\n",
        "for word in doc_sample.split(' '):\n",
        "    words.append(word)\n",
        "print(words)\n",
        "print('\\n\\n tokenized and lemmatized document: ')\n",
        "print(preprocess(doc_sample))"
      ],
      "execution_count": 12,
      "outputs": [
        {
          "output_type": "stream",
          "name": "stdout",
          "text": [
            "original document: \n",
            "['ratepayers', 'group', 'wants', 'compulsory', 'local', 'govt', 'voting']\n",
            "\n",
            "\n",
            " tokenized and lemmatized document: \n",
            "['ratepay', 'group', 'want', 'compulsori', 'local', 'govt', 'vote']\n"
          ]
        }
      ]
    },
    {
      "cell_type": "code",
      "metadata": {
        "colab": {
          "base_uri": "https://localhost:8080/"
        },
        "id": "6l3cpiJaBrv4",
        "outputId": "e61afa5b-219b-4b8f-cbfd-7dff1b868fdb"
      },
      "source": [
        "processed_docs = documents['headline_text'].map(preprocess)\n",
        "processed_docs[:10]"
      ],
      "execution_count": 13,
      "outputs": [
        {
          "output_type": "execute_result",
          "data": {
            "text/plain": [
              "0            [decid, communiti, broadcast, licenc]\n",
              "1                               [wit, awar, defam]\n",
              "2           [call, infrastructur, protect, summit]\n",
              "3                      [staff, aust, strike, rise]\n",
              "4             [strike, affect, australian, travel]\n",
              "5               [ambiti, olsson, win, tripl, jump]\n",
              "6           [antic, delight, record, break, barca]\n",
              "7    [aussi, qualifi, stosur, wast, memphi, match]\n",
              "8            [aust, address, secur, council, iraq]\n",
              "9                         [australia, lock, timet]\n",
              "Name: headline_text, dtype: object"
            ]
          },
          "metadata": {},
          "execution_count": 13
        }
      ]
    },
    {
      "cell_type": "code",
      "metadata": {
        "colab": {
          "base_uri": "https://localhost:8080/"
        },
        "id": "6dZdyUgfCT4f",
        "outputId": "3a248dc8-e09c-429b-81f3-fa05de5cb115"
      },
      "source": [
        "dictionary = gensim.corpora.Dictionary(processed_docs)\n",
        "count = 0\n",
        "for k, v in dictionary.iteritems():\n",
        "    print(k, v)\n",
        "    count += 1\n",
        "    if count > 10:\n",
        "        break"
      ],
      "execution_count": 14,
      "outputs": [
        {
          "output_type": "stream",
          "name": "stdout",
          "text": [
            "0 broadcast\n",
            "1 communiti\n",
            "2 decid\n",
            "3 licenc\n",
            "4 awar\n",
            "5 defam\n",
            "6 wit\n",
            "7 call\n",
            "8 infrastructur\n",
            "9 protect\n",
            "10 summit\n"
          ]
        }
      ]
    },
    {
      "cell_type": "code",
      "metadata": {
        "id": "vSmdQg73F3-X"
      },
      "source": [
        "dictionary.filter_extremes(no_below=15, no_above=0.5, keep_n=100000)"
      ],
      "execution_count": 15,
      "outputs": []
    },
    {
      "cell_type": "code",
      "metadata": {
        "colab": {
          "base_uri": "https://localhost:8080/"
        },
        "id": "Al03139qGPUv",
        "outputId": "be36b7fb-e2f4-454e-cca2-0e6f20c29e7b"
      },
      "source": [
        "bow_corpus = [dictionary.doc2bow(doc) for doc in processed_docs]\n",
        "bow_corpus[4310]"
      ],
      "execution_count": 16,
      "outputs": [
        {
          "output_type": "execute_result",
          "data": {
            "text/plain": [
              "[(162, 1), (240, 1), (292, 1), (589, 1), (838, 1), (3570, 1), (3571, 1)]"
            ]
          },
          "metadata": {},
          "execution_count": 16
        }
      ]
    },
    {
      "cell_type": "code",
      "metadata": {
        "colab": {
          "base_uri": "https://localhost:8080/"
        },
        "id": "bIxhJpvXGURO",
        "outputId": "7b708fea-2639-4670-b848-2492b1dc4137"
      },
      "source": [
        "bow_doc_4310 = bow_corpus[4310]\n",
        "for i in range(len(bow_doc_4310)):\n",
        "    print(\"Word {} (\\\"{}\\\") appears {} time.\".format(bow_doc_4310[i][0], dictionary[bow_doc_4310[i][0]], bow_doc_4310[i][1]))"
      ],
      "execution_count": 17,
      "outputs": [
        {
          "output_type": "stream",
          "name": "stdout",
          "text": [
            "Word 162 (\"govt\") appears 1 time.\n",
            "Word 240 (\"group\") appears 1 time.\n",
            "Word 292 (\"vote\") appears 1 time.\n",
            "Word 589 (\"local\") appears 1 time.\n",
            "Word 838 (\"want\") appears 1 time.\n",
            "Word 3570 (\"compulsori\") appears 1 time.\n",
            "Word 3571 (\"ratepay\") appears 1 time.\n"
          ]
        }
      ]
    },
    {
      "cell_type": "code",
      "metadata": {
        "colab": {
          "base_uri": "https://localhost:8080/"
        },
        "id": "WY_w6_dJGgsv",
        "outputId": "48c785dc-4f74-49a6-f3b8-17674a5489d6"
      },
      "source": [
        "from gensim import corpora, models\n",
        "tfidf = models.TfidfModel(bow_corpus)\n",
        "corpus_tfidf = tfidf[bow_corpus]\n",
        "from pprint import pprint\n",
        "for doc in corpus_tfidf:\n",
        "    pprint(doc)\n",
        "    break"
      ],
      "execution_count": 18,
      "outputs": [
        {
          "output_type": "stream",
          "name": "stdout",
          "text": [
            "[(0, 0.5842699484464488),\n",
            " (1, 0.38798859072167835),\n",
            " (2, 0.5008422243250992),\n",
            " (3, 0.5071987254965034)]\n"
          ]
        }
      ]
    },
    {
      "cell_type": "code",
      "metadata": {
        "id": "3pSdFFbEGt0w"
      },
      "source": [
        "lda_model = gensim.models.LdaMulticore(bow_corpus, num_topics=10, id2word=dictionary, passes=2, workers=2)"
      ],
      "execution_count": 19,
      "outputs": []
    },
    {
      "cell_type": "code",
      "metadata": {
        "colab": {
          "base_uri": "https://localhost:8080/"
        },
        "id": "D7aoPSIsGzyX",
        "outputId": "7033f06d-59da-4280-b49d-f1522df066ca"
      },
      "source": [
        "for idx, topic in lda_model.print_topics(-1):\n",
        "    print('Topic: {} \\nWords: {}'.format(idx, topic))"
      ],
      "execution_count": 20,
      "outputs": [
        {
          "output_type": "stream",
          "name": "stdout",
          "text": [
            "Topic: 0 \n",
            "Words: 0.018*\"health\" + 0.018*\"border\" + 0.015*\"australia\" + 0.013*\"interview\" + 0.011*\"coronavirus\" + 0.011*\"say\" + 0.010*\"talk\" + 0.009*\"quarantin\" + 0.009*\"weather\" + 0.008*\"mental\"\n",
            "Topic: 1 \n",
            "Words: 0.044*\"trump\" + 0.029*\"case\" + 0.029*\"charg\" + 0.028*\"court\" + 0.023*\"murder\" + 0.019*\"face\" + 0.017*\"alleg\" + 0.015*\"year\" + 0.015*\"jail\" + 0.014*\"woman\"\n",
            "Topic: 2 \n",
            "Words: 0.049*\"coronavirus\" + 0.042*\"covid\" + 0.015*\"tasmania\" + 0.012*\"dead\" + 0.011*\"fund\" + 0.010*\"student\" + 0.010*\"break\" + 0.009*\"travel\" + 0.009*\"indigen\" + 0.009*\"communiti\"\n",
            "Topic: 3 \n",
            "Words: 0.040*\"queensland\" + 0.032*\"victoria\" + 0.028*\"melbourn\" + 0.020*\"coast\" + 0.014*\"farmer\" + 0.014*\"australia\" + 0.014*\"coronavirus\" + 0.013*\"win\" + 0.012*\"gold\" + 0.012*\"west\"\n",
            "Topic: 4 \n",
            "Words: 0.022*\"home\" + 0.022*\"kill\" + 0.022*\"news\" + 0.019*\"state\" + 0.015*\"perth\" + 0.015*\"peopl\" + 0.014*\"bushfir\" + 0.012*\"child\" + 0.011*\"care\" + 0.011*\"abus\"\n",
            "Topic: 5 \n",
            "Words: 0.021*\"open\" + 0.020*\"adelaid\" + 0.016*\"final\" + 0.015*\"trial\" + 0.015*\"miss\" + 0.013*\"scott\" + 0.012*\"street\" + 0.010*\"beat\" + 0.010*\"season\" + 0.010*\"christma\"\n",
            "Topic: 6 \n",
            "Words: 0.058*\"polic\" + 0.026*\"donald\" + 0.025*\"live\" + 0.016*\"death\" + 0.015*\"crash\" + 0.015*\"investig\" + 0.013*\"die\" + 0.013*\"royal\" + 0.013*\"morrison\" + 0.012*\"shoot\"\n",
            "Topic: 7 \n",
            "Words: 0.032*\"coronavirus\" + 0.021*\"nation\" + 0.018*\"south\" + 0.017*\"north\" + 0.017*\"restrict\" + 0.015*\"rise\" + 0.015*\"victorian\" + 0.015*\"water\" + 0.012*\"offic\" + 0.012*\"price\"\n",
            "Topic: 8 \n",
            "Words: 0.040*\"australia\" + 0.021*\"world\" + 0.019*\"market\" + 0.017*\"record\" + 0.017*\"protest\" + 0.015*\"australian\" + 0.015*\"china\" + 0.014*\"busi\" + 0.013*\"time\" + 0.010*\"million\"\n",
            "Topic: 9 \n",
            "Words: 0.026*\"elect\" + 0.021*\"govern\" + 0.020*\"say\" + 0.015*\"chang\" + 0.011*\"labor\" + 0.011*\"speak\" + 0.010*\"drum\" + 0.010*\"andrew\" + 0.009*\"feder\" + 0.009*\"public\"\n"
          ]
        }
      ]
    },
    {
      "cell_type": "code",
      "metadata": {
        "colab": {
          "base_uri": "https://localhost:8080/"
        },
        "id": "qgUCjmB-G3oe",
        "outputId": "9621564a-b5f4-4734-dbea-58bd6b3c5de6"
      },
      "source": [
        "lda_model_tfidf = gensim.models.LdaMulticore(corpus_tfidf, num_topics=10, id2word=dictionary, passes=2, workers=4)\n",
        "for idx, topic in lda_model_tfidf.print_topics(-1):\n",
        "    print('Topic: {} Word: {}'.format(idx, topic))"
      ],
      "execution_count": 21,
      "outputs": [
        {
          "output_type": "stream",
          "name": "stdout",
          "text": [
            "Topic: 0 Word: 0.015*\"countri\" + 0.015*\"coronavirus\" + 0.011*\"hour\" + 0.010*\"restrict\" + 0.009*\"covid\" + 0.008*\"care\" + 0.008*\"thursday\" + 0.007*\"updat\" + 0.007*\"age\" + 0.005*\"vaccin\"\n",
            "Topic: 1 Word: 0.013*\"drum\" + 0.009*\"tuesday\" + 0.008*\"commiss\" + 0.007*\"violenc\" + 0.007*\"royal\" + 0.006*\"social\" + 0.006*\"domest\" + 0.005*\"septemb\" + 0.005*\"fiji\" + 0.005*\"coronavirus\"\n",
            "Topic: 2 Word: 0.018*\"charg\" + 0.018*\"polic\" + 0.015*\"murder\" + 0.011*\"woman\" + 0.011*\"alleg\" + 0.011*\"court\" + 0.009*\"death\" + 0.009*\"jail\" + 0.008*\"sentenc\" + 0.008*\"assault\"\n",
            "Topic: 3 Word: 0.026*\"trump\" + 0.015*\"donald\" + 0.008*\"weather\" + 0.008*\"queensland\" + 0.007*\"friday\" + 0.007*\"andrew\" + 0.007*\"coronavirus\" + 0.007*\"wall\" + 0.007*\"sport\" + 0.006*\"hill\"\n",
            "Topic: 4 Word: 0.019*\"news\" + 0.011*\"australia\" + 0.010*\"market\" + 0.009*\"rural\" + 0.008*\"coronavirus\" + 0.008*\"world\" + 0.007*\"australian\" + 0.007*\"financ\" + 0.006*\"cricket\" + 0.006*\"nation\"\n",
            "Topic: 5 Word: 0.010*\"govern\" + 0.006*\"coronavirus\" + 0.006*\"monday\" + 0.006*\"elect\" + 0.005*\"feder\" + 0.005*\"fund\" + 0.005*\"plan\" + 0.005*\"council\" + 0.005*\"chang\" + 0.004*\"health\"\n",
            "Topic: 6 Word: 0.011*\"kill\" + 0.009*\"crash\" + 0.008*\"dead\" + 0.007*\"korea\" + 0.006*\"border\" + 0.006*\"injur\" + 0.006*\"north\" + 0.006*\"inquest\" + 0.005*\"kohler\" + 0.005*\"die\"\n",
            "Topic: 7 Word: 0.008*\"wednesday\" + 0.007*\"cattl\" + 0.006*\"export\" + 0.005*\"georg\" + 0.005*\"price\" + 0.005*\"quiz\" + 0.005*\"economi\" + 0.005*\"anim\" + 0.005*\"refuge\" + 0.004*\"coronavirus\"\n",
            "Topic: 8 Word: 0.014*\"interview\" + 0.010*\"morrison\" + 0.010*\"scott\" + 0.007*\"mental\" + 0.007*\"peter\" + 0.006*\"histori\" + 0.006*\"grandstand\" + 0.006*\"extend\" + 0.006*\"insid\" + 0.005*\"john\"\n",
            "Topic: 9 Word: 0.010*\"live\" + 0.009*\"stori\" + 0.007*\"christma\" + 0.007*\"michael\" + 0.006*\"david\" + 0.006*\"know\" + 0.005*\"coronavirus\" + 0.005*\"june\" + 0.005*\"australia\" + 0.005*\"search\"\n"
          ]
        }
      ]
    },
    {
      "cell_type": "code",
      "metadata": {
        "colab": {
          "base_uri": "https://localhost:8080/"
        },
        "id": "zLbsv110ItG3",
        "outputId": "8df50027-004f-4126-c3cc-39e7460e0754"
      },
      "source": [
        "processed_docs[4310]"
      ],
      "execution_count": 22,
      "outputs": [
        {
          "output_type": "execute_result",
          "data": {
            "text/plain": [
              "['ratepay', 'group', 'want', 'compulsori', 'local', 'govt', 'vote']"
            ]
          },
          "metadata": {},
          "execution_count": 22
        }
      ]
    },
    {
      "cell_type": "code",
      "metadata": {
        "colab": {
          "base_uri": "https://localhost:8080/"
        },
        "id": "WocCPXBlKzmw",
        "outputId": "ebdd61cb-7e15-4706-fa5e-6e3525774c14"
      },
      "source": [
        "for index, score in sorted(lda_model[bow_corpus[4310]], key=lambda tup: -1*tup[1]):\n",
        "    print(\"\\nScore: {}\\t \\nTopic: {}\".format(score, lda_model.print_topic(index, 10)))"
      ],
      "execution_count": 23,
      "outputs": [
        {
          "output_type": "stream",
          "name": "stdout",
          "text": [
            "\n",
            "Score: 0.8874972462654114\t \n",
            "Topic: 0.026*\"elect\" + 0.021*\"govern\" + 0.020*\"say\" + 0.015*\"chang\" + 0.011*\"labor\" + 0.011*\"speak\" + 0.010*\"drum\" + 0.010*\"andrew\" + 0.009*\"feder\" + 0.009*\"public\"\n",
            "\n",
            "Score: 0.012501540593802929\t \n",
            "Topic: 0.049*\"coronavirus\" + 0.042*\"covid\" + 0.015*\"tasmania\" + 0.012*\"dead\" + 0.011*\"fund\" + 0.010*\"student\" + 0.010*\"break\" + 0.009*\"travel\" + 0.009*\"indigen\" + 0.009*\"communiti\"\n",
            "\n",
            "Score: 0.01250060461461544\t \n",
            "Topic: 0.032*\"coronavirus\" + 0.021*\"nation\" + 0.018*\"south\" + 0.017*\"north\" + 0.017*\"restrict\" + 0.015*\"rise\" + 0.015*\"victorian\" + 0.015*\"water\" + 0.012*\"offic\" + 0.012*\"price\"\n",
            "\n",
            "Score: 0.012500581331551075\t \n",
            "Topic: 0.040*\"australia\" + 0.021*\"world\" + 0.019*\"market\" + 0.017*\"record\" + 0.017*\"protest\" + 0.015*\"australian\" + 0.015*\"china\" + 0.014*\"busi\" + 0.013*\"time\" + 0.010*\"million\"\n",
            "\n",
            "Score: 0.012500009499490261\t \n",
            "Topic: 0.058*\"polic\" + 0.026*\"donald\" + 0.025*\"live\" + 0.016*\"death\" + 0.015*\"crash\" + 0.015*\"investig\" + 0.013*\"die\" + 0.013*\"royal\" + 0.013*\"morrison\" + 0.012*\"shoot\"\n",
            "\n",
            "Score: 0.01250000111758709\t \n",
            "Topic: 0.018*\"health\" + 0.018*\"border\" + 0.015*\"australia\" + 0.013*\"interview\" + 0.011*\"coronavirus\" + 0.011*\"say\" + 0.010*\"talk\" + 0.009*\"quarantin\" + 0.009*\"weather\" + 0.008*\"mental\"\n",
            "\n",
            "Score: 0.01250000111758709\t \n",
            "Topic: 0.044*\"trump\" + 0.029*\"case\" + 0.029*\"charg\" + 0.028*\"court\" + 0.023*\"murder\" + 0.019*\"face\" + 0.017*\"alleg\" + 0.015*\"year\" + 0.015*\"jail\" + 0.014*\"woman\"\n",
            "\n",
            "Score: 0.01250000111758709\t \n",
            "Topic: 0.040*\"queensland\" + 0.032*\"victoria\" + 0.028*\"melbourn\" + 0.020*\"coast\" + 0.014*\"farmer\" + 0.014*\"australia\" + 0.014*\"coronavirus\" + 0.013*\"win\" + 0.012*\"gold\" + 0.012*\"west\"\n",
            "\n",
            "Score: 0.01250000111758709\t \n",
            "Topic: 0.022*\"home\" + 0.022*\"kill\" + 0.022*\"news\" + 0.019*\"state\" + 0.015*\"perth\" + 0.015*\"peopl\" + 0.014*\"bushfir\" + 0.012*\"child\" + 0.011*\"care\" + 0.011*\"abus\"\n",
            "\n",
            "Score: 0.01250000111758709\t \n",
            "Topic: 0.021*\"open\" + 0.020*\"adelaid\" + 0.016*\"final\" + 0.015*\"trial\" + 0.015*\"miss\" + 0.013*\"scott\" + 0.012*\"street\" + 0.010*\"beat\" + 0.010*\"season\" + 0.010*\"christma\"\n"
          ]
        }
      ]
    },
    {
      "cell_type": "code",
      "metadata": {
        "colab": {
          "base_uri": "https://localhost:8080/"
        },
        "id": "wfLLlEF4K3HJ",
        "outputId": "221a0db8-82ad-4586-bdeb-0170b30fd087"
      },
      "source": [
        "for index, score in sorted(lda_model_tfidf[bow_corpus[4310]], key=lambda tup: -1*tup[1]):\n",
        "    print(\"\\nScore: {}\\t \\nTopic: {}\".format(score, lda_model_tfidf.print_topic(index, 10)))"
      ],
      "execution_count": 24,
      "outputs": [
        {
          "output_type": "stream",
          "name": "stdout",
          "text": [
            "\n",
            "Score: 0.7322425842285156\t \n",
            "Topic: 0.010*\"govern\" + 0.006*\"coronavirus\" + 0.006*\"monday\" + 0.006*\"elect\" + 0.005*\"feder\" + 0.005*\"fund\" + 0.005*\"plan\" + 0.005*\"council\" + 0.005*\"chang\" + 0.004*\"health\"\n",
            "\n",
            "Score: 0.1677512377500534\t \n",
            "Topic: 0.026*\"trump\" + 0.015*\"donald\" + 0.008*\"weather\" + 0.008*\"queensland\" + 0.007*\"friday\" + 0.007*\"andrew\" + 0.007*\"coronavirus\" + 0.007*\"wall\" + 0.007*\"sport\" + 0.006*\"hill\"\n",
            "\n",
            "Score: 0.012501309625804424\t \n",
            "Topic: 0.013*\"drum\" + 0.009*\"tuesday\" + 0.008*\"commiss\" + 0.007*\"violenc\" + 0.007*\"royal\" + 0.006*\"social\" + 0.006*\"domest\" + 0.005*\"septemb\" + 0.005*\"fiji\" + 0.005*\"coronavirus\"\n",
            "\n",
            "Score: 0.012501031160354614\t \n",
            "Topic: 0.010*\"live\" + 0.009*\"stori\" + 0.007*\"christma\" + 0.007*\"michael\" + 0.006*\"david\" + 0.006*\"know\" + 0.005*\"coronavirus\" + 0.005*\"june\" + 0.005*\"australia\" + 0.005*\"search\"\n",
            "\n",
            "Score: 0.012500966899096966\t \n",
            "Topic: 0.015*\"countri\" + 0.015*\"coronavirus\" + 0.011*\"hour\" + 0.010*\"restrict\" + 0.009*\"covid\" + 0.008*\"care\" + 0.008*\"thursday\" + 0.007*\"updat\" + 0.007*\"age\" + 0.005*\"vaccin\"\n",
            "\n",
            "Score: 0.012500916607677937\t \n",
            "Topic: 0.008*\"wednesday\" + 0.007*\"cattl\" + 0.006*\"export\" + 0.005*\"georg\" + 0.005*\"price\" + 0.005*\"quiz\" + 0.005*\"economi\" + 0.005*\"anim\" + 0.005*\"refuge\" + 0.004*\"coronavirus\"\n",
            "\n",
            "Score: 0.012500835582613945\t \n",
            "Topic: 0.019*\"news\" + 0.011*\"australia\" + 0.010*\"market\" + 0.009*\"rural\" + 0.008*\"coronavirus\" + 0.008*\"world\" + 0.007*\"australian\" + 0.007*\"financ\" + 0.006*\"cricket\" + 0.006*\"nation\"\n",
            "\n",
            "Score: 0.012500460259616375\t \n",
            "Topic: 0.014*\"interview\" + 0.010*\"morrison\" + 0.010*\"scott\" + 0.007*\"mental\" + 0.007*\"peter\" + 0.006*\"histori\" + 0.006*\"grandstand\" + 0.006*\"extend\" + 0.006*\"insid\" + 0.005*\"john\"\n",
            "\n",
            "Score: 0.012500335462391376\t \n",
            "Topic: 0.018*\"charg\" + 0.018*\"polic\" + 0.015*\"murder\" + 0.011*\"woman\" + 0.011*\"alleg\" + 0.011*\"court\" + 0.009*\"death\" + 0.009*\"jail\" + 0.008*\"sentenc\" + 0.008*\"assault\"\n",
            "\n",
            "Score: 0.012500333599746227\t \n",
            "Topic: 0.011*\"kill\" + 0.009*\"crash\" + 0.008*\"dead\" + 0.007*\"korea\" + 0.006*\"border\" + 0.006*\"injur\" + 0.006*\"north\" + 0.006*\"inquest\" + 0.005*\"kohler\" + 0.005*\"die\"\n"
          ]
        }
      ]
    },
    {
      "cell_type": "code",
      "metadata": {
        "colab": {
          "base_uri": "https://localhost:8080/"
        },
        "id": "LUZ0NLdVLIeJ",
        "outputId": "bb3a8f30-7a2e-413d-b7ab-61c0ec3bea9c"
      },
      "source": [
        "unseen_document = 'How a Pentagon deal became an identity crisis for Google'\n",
        "bow_vector = dictionary.doc2bow(preprocess(unseen_document))\n",
        "for index, score in sorted(lda_model[bow_vector], key=lambda tup: -1*tup[1]):\n",
        "    print(\"Score: {}\\t Topic: {}\".format(score, lda_model.print_topic(index, 5)))"
      ],
      "execution_count": 25,
      "outputs": [
        {
          "output_type": "stream",
          "name": "stdout",
          "text": [
            "Score: 0.48525750637054443\t Topic: 0.040*\"australia\" + 0.021*\"world\" + 0.019*\"market\" + 0.017*\"record\" + 0.017*\"protest\"\n",
            "Score: 0.21474039554595947\t Topic: 0.026*\"elect\" + 0.021*\"govern\" + 0.020*\"say\" + 0.015*\"chang\" + 0.011*\"labor\"\n",
            "Score: 0.18333332240581512\t Topic: 0.040*\"queensland\" + 0.032*\"victoria\" + 0.028*\"melbourn\" + 0.020*\"coast\" + 0.014*\"farmer\"\n",
            "Score: 0.016667794436216354\t Topic: 0.032*\"coronavirus\" + 0.021*\"nation\" + 0.018*\"south\" + 0.017*\"north\" + 0.017*\"restrict\"\n",
            "Score: 0.016667651012539864\t Topic: 0.018*\"health\" + 0.018*\"border\" + 0.015*\"australia\" + 0.013*\"interview\" + 0.011*\"coronavirus\"\n",
            "Score: 0.01666666753590107\t Topic: 0.044*\"trump\" + 0.029*\"case\" + 0.029*\"charg\" + 0.028*\"court\" + 0.023*\"murder\"\n",
            "Score: 0.01666666753590107\t Topic: 0.049*\"coronavirus\" + 0.042*\"covid\" + 0.015*\"tasmania\" + 0.012*\"dead\" + 0.011*\"fund\"\n",
            "Score: 0.01666666753590107\t Topic: 0.022*\"home\" + 0.022*\"kill\" + 0.022*\"news\" + 0.019*\"state\" + 0.015*\"perth\"\n",
            "Score: 0.01666666753590107\t Topic: 0.021*\"open\" + 0.020*\"adelaid\" + 0.016*\"final\" + 0.015*\"trial\" + 0.015*\"miss\"\n",
            "Score: 0.01666666753590107\t Topic: 0.058*\"polic\" + 0.026*\"donald\" + 0.025*\"live\" + 0.016*\"death\" + 0.015*\"crash\"\n"
          ]
        }
      ]
    },
    {
      "cell_type": "code",
      "metadata": {
        "colab": {
          "base_uri": "https://localhost:8080/"
        },
        "id": "WiUjcFX8LRUv",
        "outputId": "e4cf2dcb-2d49-48b7-839e-43dff44ea3e8"
      },
      "source": [
        "for index, score in sorted(lda_model_tfidf[bow_vector], key=lambda tup: -1*tup[1]):\n",
        "    print(\"Score: {}\\t Topic: {}\".format(score, lda_model_tfidf.print_topic(index, 5)))"
      ],
      "execution_count": 26,
      "outputs": [
        {
          "output_type": "stream",
          "name": "stdout",
          "text": [
            "Score: 0.3214333653450012\t Topic: 0.010*\"live\" + 0.009*\"stori\" + 0.007*\"christma\" + 0.007*\"michael\" + 0.006*\"david\"\n",
            "Score: 0.2841341197490692\t Topic: 0.008*\"wednesday\" + 0.007*\"cattl\" + 0.006*\"export\" + 0.005*\"georg\" + 0.005*\"price\"\n",
            "Score: 0.2777499258518219\t Topic: 0.011*\"kill\" + 0.009*\"crash\" + 0.008*\"dead\" + 0.007*\"korea\" + 0.006*\"border\"\n",
            "Score: 0.016671141609549522\t Topic: 0.013*\"drum\" + 0.009*\"tuesday\" + 0.008*\"commiss\" + 0.007*\"violenc\" + 0.007*\"royal\"\n",
            "Score: 0.01666976697742939\t Topic: 0.010*\"govern\" + 0.006*\"coronavirus\" + 0.006*\"monday\" + 0.006*\"elect\" + 0.005*\"feder\"\n",
            "Score: 0.01666972227394581\t Topic: 0.026*\"trump\" + 0.015*\"donald\" + 0.008*\"weather\" + 0.008*\"queensland\" + 0.007*\"friday\"\n",
            "Score: 0.016669126227498055\t Topic: 0.015*\"countri\" + 0.015*\"coronavirus\" + 0.011*\"hour\" + 0.010*\"restrict\" + 0.009*\"covid\"\n",
            "Score: 0.01666801981627941\t Topic: 0.014*\"interview\" + 0.010*\"morrison\" + 0.010*\"scott\" + 0.007*\"mental\" + 0.007*\"peter\"\n",
            "Score: 0.01666792295873165\t Topic: 0.019*\"news\" + 0.011*\"australia\" + 0.010*\"market\" + 0.009*\"rural\" + 0.008*\"coronavirus\"\n",
            "Score: 0.016666876152157784\t Topic: 0.018*\"charg\" + 0.018*\"polic\" + 0.015*\"murder\" + 0.011*\"woman\" + 0.011*\"alleg\"\n"
          ]
        }
      ]
    },
    {
      "cell_type": "code",
      "metadata": {
        "id": "nSl6HTMPLwC4"
      },
      "source": [
        ""
      ],
      "execution_count": null,
      "outputs": []
    }
  ]
}